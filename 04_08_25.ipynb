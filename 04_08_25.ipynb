{
  "nbformat": 4,
  "nbformat_minor": 0,
  "metadata": {
    "colab": {
      "provenance": []
    },
    "kernelspec": {
      "name": "python3",
      "display_name": "Python 3"
    },
    "language_info": {
      "name": "python"
    }
  },
  "cells": [
    {
      "cell_type": "code",
      "execution_count": null,
      "metadata": {
        "id": "epec5d5fDKSJ"
      },
      "outputs": [],
      "source": [
        "def binning_equal_width(data, num_bins):\n",
        "    min_val = min(data)\n",
        "    max_val = max(data)\n",
        "    bin_width = (max_val - min_val) / num_bins\n",
        "    bins = []\n",
        "\n",
        "    for i in range(num_bins):\n",
        "        lower = min_val + i * bin_width\n",
        "        upper = lower + bin_width\n",
        "        bins.append([lower, upper])\n",
        "\n",
        "    binned_data = []\n",
        "    for val in data:\n",
        "        for i in range(len(bins)):\n",
        "            if bins[i][0] <= val < bins[i][1] or (i == len(bins)-1 and val == bins[i][1]):\n",
        "                binned_data.append(f'Bin_{i+1}')\n",
        "                break\n",
        "    return binned_data"
      ]
    },
    {
      "cell_type": "code",
      "source": [
        "data = [1, 3, 7, 10, 12]\n",
        "bins = 3\n",
        "result = binning_equal_width(data, bins)\n",
        "print(result)\n"
      ],
      "metadata": {
        "colab": {
          "base_uri": "https://localhost:8080/"
        },
        "id": "Iik2HoYWHoOC",
        "outputId": "35aec9b8-e0cf-4cb4-f596-07d559c8148e"
      },
      "execution_count": null,
      "outputs": [
        {
          "output_type": "stream",
          "name": "stdout",
          "text": [
            "['Bin_1', 'Bin_1', 'Bin_2', 'Bin_3']\n"
          ]
        }
      ]
    },
    {
      "cell_type": "code",
      "source": [
        "def min_max_normalize(data, new_min=0, new_max=1):\n",
        "    old_min = min(data)\n",
        "    old_max = max(data)\n",
        "    normalized = []\n",
        "    for x in data:\n",
        "        norm = ((x - old_min) / (old_max - old_min)) * (new_max - new_min) + new_min\n",
        "        normalized.append(norm)\n",
        "    return normalized\n",
        "\n",
        "data = [50, 70, 80, 90, 100]\n",
        "print(\"Normalized:\", min_max_normalize(data))\n"
      ],
      "metadata": {
        "colab": {
          "base_uri": "https://localhost:8080/"
        },
        "id": "Vq9vrRDzKrkw",
        "outputId": "155ee1bb-4089-4f80-c170-48ab7fe4d7b1"
      },
      "execution_count": null,
      "outputs": [
        {
          "output_type": "stream",
          "name": "stdout",
          "text": [
            "Normalized: [0.0, 0.4, 0.6, 0.8, 1.0]\n"
          ]
        }
      ]
    },
    {
      "cell_type": "code",
      "source": [
        "def z_test(mean1, mean2, std1, std2, n1, n2):\n",
        "    import math\n",
        "    z = (mean1 - mean2) / math.sqrt((std1**2 / n1) + (std2**2 / n2))\n",
        "    return z\n",
        "\n",
        "print(\"Z-Score:\", z_test(90, 85, 10, 12, 30, 35))\n"
      ],
      "metadata": {
        "colab": {
          "base_uri": "https://localhost:8080/"
        },
        "id": "d57oOsw8KyAJ",
        "outputId": "56699d63-13d6-46d0-de63-6d1883b8dc13"
      },
      "execution_count": null,
      "outputs": [
        {
          "output_type": "stream",
          "name": "stdout",
          "text": [
            "Z-Score: 1.8321510564377976\n"
          ]
        }
      ]
    },
    {
      "cell_type": "code",
      "source": [
        "def chi_square_test(observed):\n",
        "    rows = len(observed)\n",
        "    cols = len(observed[0])\n",
        "    total = sum([sum(row) for row in observed])\n",
        "\n",
        "    row_totals = [sum(row) for row in observed]\n",
        "    col_totals = [sum([observed[i][j] for i in range(rows)]) for j in range(cols)]\n",
        "\n",
        "    expected = [[(row_totals[i] * col_totals[j]) / total for j in range(cols)] for i in range(rows)]\n",
        "    chi_sq = 0\n",
        "    for i in range(rows):\n",
        "        for j in range(cols):\n",
        "            chi_sq += ((observed[i][j] - expected[i][j]) ** 2) / expected[i][j]\n",
        "    return chi_sq\n",
        "\n",
        "observed = [[10, 20], [20, 30]]\n",
        "print(\"Chi-Square Value:\", chi_square_test(observed))\n"
      ],
      "metadata": {
        "colab": {
          "base_uri": "https://localhost:8080/"
        },
        "id": "YoWMztARK2PQ",
        "outputId": "ce313e3b-b2ce-4e9a-a800-ddddca88df09"
      },
      "execution_count": null,
      "outputs": [
        {
          "output_type": "stream",
          "name": "stdout",
          "text": [
            "Chi-Square Value: 0.3555555555555555\n"
          ]
        }
      ]
    },
    {
      "cell_type": "code",
      "source": [
        "def confusion_matrix(actual, predicted):\n",
        "    tp = tn = fp = fn = 0\n",
        "    for i in range(len(actual)):\n",
        "        if actual[i] == predicted[i] == 1:\n",
        "            tp += 1\n",
        "        elif actual[i] == predicted[i] == 0:\n",
        "            tn += 1\n",
        "        elif actual[i] == 0 and predicted[i] == 1:\n",
        "            fp += 1\n",
        "        elif actual[i] == 1 and predicted[i] == 0:\n",
        "            fn += 1\n",
        "    return [[tn, fp], [fn, tp]]\n",
        "\n",
        "actual = [1, 0, 1, 1, 0, 1, 0]\n",
        "predicted = [1, 0, 1, 0, 0, 1, 1]\n",
        "print(\"Confusion Matrix:\\nTN, FP\\nFN, TP\\n\", confusion_matrix(actual, predicted))\n"
      ],
      "metadata": {
        "colab": {
          "base_uri": "https://localhost:8080/"
        },
        "id": "TfHytaw5K-B5",
        "outputId": "2a4bc4fa-9cff-4251-8a01-397278bb23e0"
      },
      "execution_count": null,
      "outputs": [
        {
          "output_type": "stream",
          "name": "stdout",
          "text": [
            "Confusion Matrix:\n",
            "TN, FP\n",
            "FN, TP\n",
            " [[2, 1], [1, 3]]\n"
          ]
        }
      ]
    },
    {
      "cell_type": "code",
      "source": [
        "def mean(col):\n",
        "    return sum(col) / len(col)\n",
        "\n",
        "def transpose(matrix):\n",
        "    return list(map(list, zip(*matrix)))\n",
        "\n",
        "def covariance_matrix(data):\n",
        "    transposed = transpose(data)\n",
        "    means = [mean(col) for col in transposed]\n",
        "    cov_matrix = []\n",
        "    for i in range(len(transposed)):\n",
        "        row = []\n",
        "        for j in range(len(transposed)):\n",
        "            cov = sum((transposed[i][k] - means[i]) * (transposed[j][k] - means[j]) for k in range(len(data))) / (len(data)-1)\n",
        "            row.append(cov)\n",
        "        cov_matrix.append(row)\n",
        "    return cov_matrix\n",
        "\n",
        "# 🔹 Sample 2D data from iris\n",
        "iris_sample = [\n",
        "    [5.1, 3.5],\n",
        "    [4.9, 3.0],\n",
        "    [4.7, 3.2],\n",
        "    [4.6, 3.1],\n",
        "    [5.0, 3.6]\n",
        "]\n",
        "\n",
        "print(\"Covariance Matrix:\")\n",
        "for row in covariance_matrix(iris_sample):\n",
        "    print(row)\n"
      ],
      "metadata": {
        "colab": {
          "base_uri": "https://localhost:8080/"
        },
        "id": "Xnh30EC1LYJz",
        "outputId": "4d683809-8a73-48ac-c3bc-2e99237729ce"
      },
      "execution_count": null,
      "outputs": [
        {
          "output_type": "stream",
          "name": "stdout",
          "text": [
            "Covariance Matrix:\n",
            "[0.043, 0.03649999999999996]\n",
            "[0.03649999999999996, 0.067]\n"
          ]
        }
      ]
    },
    {
      "cell_type": "code",
      "source": [
        "def find_s_algorithm(data):\n",
        "    hypothesis = ['0'] * (len(data[0]) - 1)\n",
        "    for instance in data:\n",
        "        if instance[-1].lower() == 'yes':\n",
        "            for i in range(len(hypothesis)):\n",
        "                if hypothesis[i] == '0':\n",
        "                    hypothesis[i] = instance[i]\n",
        "                elif hypothesis[i] != instance[i]:\n",
        "                    hypothesis[i] = '?'\n",
        "    return hypothesis\n",
        "\n",
        "# 🔹 Sample training data\n",
        "training_data = [\n",
        "    ['Sunny', 'Warm', 'Normal', 'Strong', 'Warm', 'Same', 'Yes'],\n",
        "    ['Sunny', 'Warm', 'High', 'Strong', 'Warm', 'Same', 'Yes'],\n",
        "    ['Rainy', 'Cold', 'High', 'Strong', 'Warm', 'Change', 'No'],\n",
        "    ['Sunny', 'Warm', 'High', 'Strong', 'Cool', 'Change', 'Yes']\n",
        "]\n",
        "\n",
        "print(\"Final Hypothesis:\", find_s_algorithm(training_data))\n"
      ],
      "metadata": {
        "colab": {
          "base_uri": "https://localhost:8080/"
        },
        "id": "uMFudKg0LeHI",
        "outputId": "3f443472-98ed-4397-fabb-d0140432f835"
      },
      "execution_count": null,
      "outputs": [
        {
          "output_type": "stream",
          "name": "stdout",
          "text": [
            "Final Hypothesis: ['Sunny', 'Warm', '?', 'Strong', '?', '?']\n"
          ]
        }
      ]
    },
    {
      "cell_type": "code",
      "source": [],
      "metadata": {
        "id": "xznPs6kkLsrh"
      },
      "execution_count": null,
      "outputs": []
    }
  ]
}