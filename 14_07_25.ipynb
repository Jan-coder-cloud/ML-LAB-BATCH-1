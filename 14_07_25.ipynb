{
  "nbformat": 4,
  "nbformat_minor": 0,
  "metadata": {
    "colab": {
      "provenance": []
    },
    "kernelspec": {
      "name": "python3",
      "display_name": "Python 3"
    },
    "language_info": {
      "name": "python"
    }
  },
  "cells": [
    {
      "cell_type": "markdown",
      "source": [
        "Implementation of Python Basic Libraries such as Statistics, Math, Numpy and Scipy\n",
        "a) Usage of methods such as floor(), ceil(), sqrt(), isqrt(), gcd() etc.\n",
        "b) Usage of attributes of array such as ndim, shape, size, methods such as sum(), mean(), sort(), sin() etc.\n",
        "c) Usage of methods such as det(), eig() etc.\n",
        "d) Consider a list datatype(1D) then reshape it into2D, 3D matrix using numpy\n",
        "e) Generater and matrices using numpy\n",
        "f) Find the determinant of a matrix using scipy\n",
        "g) Find eigen value and eigen vector of a matrix using scipy\n"
      ],
      "metadata": {
        "id": "ALVASMXSBwxP"
      }
    },
    {
      "cell_type": "code",
      "source": [],
      "metadata": {
        "id": "o1VzAY0e7MoW"
      },
      "execution_count": null,
      "outputs": []
    },
    {
      "cell_type": "code",
      "execution_count": null,
      "metadata": {
        "id": "cNoem87pFZU7"
      },
      "outputs": [],
      "source": [
        "import numpy as np\n",
        "import pandas\n",
        "import math\n",
        "import statistics\n",
        "from scipy import linalg"
      ]
    },
    {
      "cell_type": "code",
      "source": [
        "x=10.75\n",
        "print(math.ceil(x))\n",
        "print(math.floor(x))\n",
        "print(math.sqrt(25))\n",
        "print(math.isqrt(25))\n",
        "print(math.gcd(12,6))"
      ],
      "metadata": {
        "colab": {
          "base_uri": "https://localhost:8080/"
        },
        "id": "XjSUsivCFtyi",
        "outputId": "88068fb2-81a3-435f-9f99-b4fc06d86e12"
      },
      "execution_count": null,
      "outputs": [
        {
          "output_type": "stream",
          "name": "stdout",
          "text": [
            "11\n",
            "10\n",
            "5.0\n",
            "5\n",
            "6\n"
          ]
        }
      ]
    },
    {
      "cell_type": "code",
      "source": [
        "# Statistics :"
      ],
      "metadata": {
        "id": "S6MkkpuU9Fcv"
      },
      "execution_count": null,
      "outputs": []
    },
    {
      "cell_type": "code",
      "source": [
        "data = [1,2,3,4,5,5,6]\n",
        "print(\"Mean:\",statistics.mean(data))\n",
        "print(\"Median\",statistics.median(data))\n",
        "print(\"Mode:\",statistics.mode(data))"
      ],
      "metadata": {
        "id": "2J8XRw0lG9fZ",
        "colab": {
          "base_uri": "https://localhost:8080/"
        },
        "outputId": "b76ccd7f-69cf-46b3-a996-24af755a4e46"
      },
      "execution_count": null,
      "outputs": [
        {
          "output_type": "stream",
          "name": "stdout",
          "text": [
            "Mean: 3.7142857142857144\n",
            "Median 4\n",
            "Mode: 5\n"
          ]
        }
      ]
    },
    {
      "cell_type": "code",
      "source": [
        "#Numpy attributes"
      ],
      "metadata": {
        "id": "Qf9nJrS69MNH"
      },
      "execution_count": null,
      "outputs": []
    },
    {
      "cell_type": "code",
      "source": [
        "arr=np.array([[1,2,3],[4,5,6],[7,8,9]])\n",
        "print(\"Shape:\",arr.shape) #Shape - (no of rows,no of columns)\n",
        "print(\"Size:\",arr.size)   #Size - Total no of elements in the array\n",
        "print(\"Dimensions:\",arr.ndim) #Dimensions - 2D array\n",
        "print(\"Array:\\n\",arr)   #printing array"
      ],
      "metadata": {
        "colab": {
          "base_uri": "https://localhost:8080/"
        },
        "id": "YT80GHO47iHe",
        "outputId": "baa5765d-b77c-48fe-bc01-b4a4e50b962c"
      },
      "execution_count": null,
      "outputs": [
        {
          "output_type": "stream",
          "name": "stdout",
          "text": [
            "Shape: (3, 3)\n",
            "Size: 9\n",
            "Dimensions: 2\n",
            "Array:\n",
            " [[1 2 3]\n",
            " [4 5 6]\n",
            " [7 8 9]]\n"
          ]
        }
      ]
    },
    {
      "cell_type": "code",
      "source": [
        "#Numpy methods:"
      ],
      "metadata": {
        "id": "VRlVVs2f8_a4"
      },
      "execution_count": null,
      "outputs": []
    },
    {
      "cell_type": "code",
      "source": [
        "print(\"Sum of array:\",arr.sum())\n",
        "print(\"Mean of array:\",arr.mean())\n",
        "print(\"Max of array:\",arr.max())\n",
        "print(\"Min of array:\",arr.min())\n",
        "print(\"Standard deviation of array:\",arr.std())\n",
        "print(\"Variance of array:\",arr.var())\n",
        "print(\"Sorted array:\",np.sort(arr,axis=1))"
      ],
      "metadata": {
        "colab": {
          "base_uri": "https://localhost:8080/"
        },
        "id": "EofxtlLe9TzX",
        "outputId": "6c98e2d6-f3f3-4d57-ae72-efe40b594128"
      },
      "execution_count": null,
      "outputs": [
        {
          "output_type": "stream",
          "name": "stdout",
          "text": [
            "Sum of array: 45\n",
            "Mean of array: 5.0\n",
            "Max of array: 9\n",
            "Min of array: 1\n",
            "Standard deviation of array: 2.581988897471611\n",
            "Variance of array: 6.666666666666667\n",
            "Sorted array: [[1 2 3]\n",
            " [4 5 6]\n",
            " [7 8 9]]\n"
          ]
        }
      ]
    },
    {
      "cell_type": "code",
      "source": [
        "#Matrix Operations:\n",
        "\n",
        "arr1=np.array([[4,5],[6,10]])\n",
        "mat=np.matrix(arr1)\n",
        "print(\"Matrix:\\n\",mat)\n",
        "print(\"Determinant of matrix\",linalg.det(mat))\n",
        "eig_val,eig_vector=linalg.eig(mat)\n",
        "print(\"Eigen values:\",eig_val)\n",
        "print(\"Eigen vectors:\",eig_vector)"
      ],
      "metadata": {
        "colab": {
          "base_uri": "https://localhost:8080/"
        },
        "id": "y_9dftWt-LUQ",
        "outputId": "879f4e56-17e4-45ef-bc70-0036d46ecd54"
      },
      "execution_count": null,
      "outputs": [
        {
          "output_type": "stream",
          "name": "stdout",
          "text": [
            "Matrix:\n",
            " [[ 4  5]\n",
            " [ 6 10]]\n",
            "Determinant of matrix 10.0\n",
            "Eigen values: [ 0.755002+0.j 13.244998+0.j]\n",
            "Eigen vectors: [[-0.83882686 -0.4757161 ]\n",
            " [ 0.54439829 -0.87959888]]\n"
          ]
        }
      ]
    },
    {
      "cell_type": "code",
      "source": [
        "#Reshaping a list to 2d and 3d array\n",
        "list_1=list(range(1,13))\n",
        "arr=np.array(list_1)\n",
        "arr_2d=arr.reshape(3,4)\n",
        "print(\"2D ARRAY:\",arr_2d)\n",
        "arr_3d=arr.reshape(2,2,3)\n",
        "print(\"3D ARRAY:\",arr_3d)"
      ],
      "metadata": {
        "colab": {
          "base_uri": "https://localhost:8080/"
        },
        "id": "E8gyB0uZAEVo",
        "outputId": "b727b279-f894-4aab-85f6-b495c73abe0d"
      },
      "execution_count": null,
      "outputs": [
        {
          "output_type": "stream",
          "name": "stdout",
          "text": [
            "2D ARRAY: [[ 1  2  3  4]\n",
            " [ 5  6  7  8]\n",
            " [ 9 10 11 12]]\n",
            "3D ARRAY: [[[ 1  2  3]\n",
            "  [ 4  5  6]]\n",
            "\n",
            " [[ 7  8  9]\n",
            "  [10 11 12]]]\n"
          ]
        }
      ]
    },
    {
      "cell_type": "markdown",
      "source": [
        "Implementation of Python Libraries for ML application such as Pandas and Matplotlib.\n",
        "a) Create a Series using pandas and display\n",
        "b) Access the index and the values of our Series\n",
        "c) Compare an array using Numpy with a series using pandas\n",
        "d) Define Series objects with individual indices\n",
        "e) Access single value of a series\n",
        "f) Load datasets in a Data frame variable using\n"
      ],
      "metadata": {
        "id": "CDxK1mQoB9wR"
      }
    },
    {
      "cell_type": "code",
      "source": [
        "import pandas\n",
        "import numpy as np\n",
        "import matplotlib.pyplot as plt"
      ],
      "metadata": {
        "id": "GGVQNeRTCCvo"
      },
      "execution_count": null,
      "outputs": []
    },
    {
      "cell_type": "code",
      "source": [
        "data=[1,2,3,4,5,6,7,8,12,13,14,15,16] #creating a list\n",
        "series=pandas.Series(data)   #Now I have changed the list \"data\" to series in pandas\n",
        "print(series)"
      ],
      "metadata": {
        "colab": {
          "base_uri": "https://localhost:8080/"
        },
        "id": "4rmsfdsOCShf",
        "outputId": "37a39b89-a607-4d77-ac1b-fa6f01413556"
      },
      "execution_count": null,
      "outputs": [
        {
          "output_type": "stream",
          "name": "stdout",
          "text": [
            "0      1\n",
            "1      2\n",
            "2      3\n",
            "3      4\n",
            "4      5\n",
            "5      6\n",
            "6      7\n",
            "7      8\n",
            "8     12\n",
            "9     13\n",
            "10    14\n",
            "11    15\n",
            "12    16\n",
            "dtype: int64\n"
          ]
        }
      ]
    },
    {
      "cell_type": "code",
      "source": [
        "print(series.index)\n",
        "print(series.values)"
      ],
      "metadata": {
        "colab": {
          "base_uri": "https://localhost:8080/"
        },
        "id": "uJIt_UzQDKPJ",
        "outputId": "835379ec-cceb-4bc4-984a-1765f7620b58"
      },
      "execution_count": null,
      "outputs": [
        {
          "output_type": "stream",
          "name": "stdout",
          "text": [
            "RangeIndex(start=0, stop=13, step=1)\n",
            "[ 1  2  3  4  5  6  7  8 12 13 14 15 16]\n"
          ]
        }
      ]
    },
    {
      "cell_type": "code",
      "source": [
        "np_arr=np.array([10,20,30,40,50])\n",
        "pd_series=pandas.Series([10,20,30,40,50])\n",
        "print(np_arr)\n",
        "print(pd_series)\n",
        "print(\"Type of numpy array:\",type(np_arr))\n",
        "print(\"Type of panadas series:\",type(pd_series))\n",
        "comparison = np_arr == pd_series\n",
        "print(\"Element-wise Comparison:\", comparison)"
      ],
      "metadata": {
        "colab": {
          "base_uri": "https://localhost:8080/"
        },
        "id": "BsMJiiOaDjLY",
        "outputId": "a092040e-9bdb-4eb7-e085-c94f97c4d57f"
      },
      "execution_count": null,
      "outputs": [
        {
          "output_type": "stream",
          "name": "stdout",
          "text": [
            "[10 20 30 40 50]\n",
            "0    10\n",
            "1    20\n",
            "2    30\n",
            "3    40\n",
            "4    50\n",
            "dtype: int64\n",
            "Type of numpy array: <class 'numpy.ndarray'>\n",
            "Type of panadas series: <class 'pandas.core.series.Series'>\n",
            "Element-wise Comparison: 0    True\n",
            "1    True\n",
            "2    True\n",
            "3    True\n",
            "4    True\n",
            "dtype: bool\n"
          ]
        }
      ]
    },
    {
      "cell_type": "code",
      "source": [
        "custom_series=pandas.Series([10,20,30,40],index=['a','b','c','d'])\n",
        "print(\"Series with customised individuals: \",custom_series)"
      ],
      "metadata": {
        "colab": {
          "base_uri": "https://localhost:8080/"
        },
        "id": "FTn34QZUEtbS",
        "outputId": "350ef8ec-3d55-4965-c8e1-9cea8af48456"
      },
      "execution_count": null,
      "outputs": [
        {
          "output_type": "stream",
          "name": "stdout",
          "text": [
            "Series with customised individuals:  a    10\n",
            "b    20\n",
            "c    30\n",
            "d    40\n",
            "dtype: int64\n"
          ]
        }
      ]
    },
    {
      "cell_type": "code",
      "source": [
        "#access by index label\n",
        "print(custom_series['a'])\n",
        "#access by index location\n",
        "print(custom_series.iloc[0])\n",
        "#access by index label\n",
        "print(custom_series['b'])\n",
        "#access by index location\n",
        "print(custom_series.iloc[1])\n",
        "#access by index label\n",
        "print(custom_series['c'])\n",
        "#access by index location\n",
        "print(custom_series.iloc[2])\n",
        "#access by index label\n",
        "print(custom_series['c'])\n",
        "#access by index location\n",
        "print(custom_series.iloc[3])"
      ],
      "metadata": {
        "colab": {
          "base_uri": "https://localhost:8080/"
        },
        "id": "4y9r1FclFgQB",
        "outputId": "b0c009b5-3c55-4589-9403-e627fca215f6"
      },
      "execution_count": null,
      "outputs": [
        {
          "output_type": "stream",
          "name": "stdout",
          "text": [
            "10\n",
            "10\n",
            "20\n",
            "20\n",
            "30\n",
            "30\n",
            "30\n",
            "40\n"
          ]
        }
      ]
    },
    {
      "cell_type": "code",
      "source": [
        "from sklearn import datasets\n",
        "import pandas as pd\n",
        "iris=datasets.load_iris()\n",
        "df=pd.DataFrame(iris.data,columns=iris.feature_names)\n",
        "print(df.head)"
      ],
      "metadata": {
        "colab": {
          "base_uri": "https://localhost:8080/"
        },
        "id": "wKkiy7SqGJYx",
        "outputId": "7f06e597-606d-4462-f5d3-9bcb0ba3acf5"
      },
      "execution_count": null,
      "outputs": [
        {
          "output_type": "stream",
          "name": "stdout",
          "text": [
            "<bound method NDFrame.head of      sepal length (cm)  sepal width (cm)  petal length (cm)  petal width (cm)\n",
            "0                  5.1               3.5                1.4               0.2\n",
            "1                  4.9               3.0                1.4               0.2\n",
            "2                  4.7               3.2                1.3               0.2\n",
            "3                  4.6               3.1                1.5               0.2\n",
            "4                  5.0               3.6                1.4               0.2\n",
            "..                 ...               ...                ...               ...\n",
            "145                6.7               3.0                5.2               2.3\n",
            "146                6.3               2.5                5.0               1.9\n",
            "147                6.5               3.0                5.2               2.0\n",
            "148                6.2               3.4                5.4               2.3\n",
            "149                5.9               3.0                5.1               1.8\n",
            "\n",
            "[150 rows x 4 columns]>\n"
          ]
        }
      ]
    },
    {
      "cell_type": "code",
      "source": [
        "# Simple line plot\n",
        "plt.plot(df['sepal length (cm)'])\n",
        "plt.title('Sepal Length Plot')\n",
        "plt.xlabel('Index')\n",
        "plt.ylabel('Sepal Length')\n",
        "plt.grid()\n",
        "plt.show()"
      ],
      "metadata": {
        "colab": {
          "base_uri": "https://localhost:8080/",
          "height": 472
        },
        "id": "9hMyNysDJB2K",
        "outputId": "5bb928d8-fe85-4528-bf29-4018bdab507e"
      },
      "execution_count": null,
      "outputs": [
        {
          "output_type": "display_data",
          "data": {
            "text/plain": [
              "<Figure size 640x480 with 1 Axes>"
            ],
            "image/png": "[encoded data removed]"
          },
          "metadata": {}
        }
      ]
    },
    {
      "cell_type": "code",
      "source": [
        "# Add target (species)\n",
        "df['species'] = iris.target\n",
        "\n",
        "# Replace numeric target with class labels\n",
        "df['species'] = df['species'].map({0: 'setosa', 1: 'versicolor', 2: 'virginica'})\n",
        "\n"
      ],
      "metadata": {
        "id": "PM2qxFCDJkgw"
      },
      "execution_count": null,
      "outputs": []
    },
    {
      "cell_type": "code",
      "source": [
        "print(\"Missing Values:\\n\", df.isnull().sum())\n"
      ],
      "metadata": {
        "colab": {
          "base_uri": "https://localhost:8080/"
        },
        "id": "pKhDp1xZJnxY",
        "outputId": "a12e5a10-344e-4a6f-8600-de7498d38a8a"
      },
      "execution_count": null,
      "outputs": [
        {
          "output_type": "stream",
          "name": "stdout",
          "text": [
            "Missing Values:\n",
            " sepal length (cm)    0\n",
            "sepal width (cm)     0\n",
            "petal length (cm)    0\n",
            "petal width (cm)     0\n",
            "species              0\n",
            "dtype: int64\n"
          ]
        }
      ]
    },
    {
      "cell_type": "code",
      "source": [
        "pip install pandas scikit-learn //for installing scikit-learn\n"
      ],
      "metadata": {
        "colab": {
          "base_uri": "https://localhost:8080/"
        },
        "id": "GEzTiany7PY9",
        "outputId": "59b5b2e0-cc29-4773-adae-4b01ce1b9a60"
      },
      "execution_count": null,
      "outputs": [
        {
          "output_type": "stream",
          "name": "stdout",
          "text": [
            "Requirement already satisfied: pandas in /usr/local/lib/python3.11/dist-packages (2.2.2)\n",
            "Requirement already satisfied: scikit-learn in /usr/local/lib/python3.11/dist-packages (1.6.1)\n",
            "Requirement already satisfied: numpy>=1.23.2 in /usr/local/lib/python3.11/dist-packages (from pandas) (2.0.2)\n",
            "Requirement already satisfied: python-dateutil>=2.8.2 in /usr/local/lib/python3.11/dist-packages (from pandas) (2.9.0.post0)\n",
            "Requirement already satisfied: pytz>=2020.1 in /usr/local/lib/python3.11/dist-packages (from pandas) (2025.2)\n",
            "Requirement already satisfied: tzdata>=2022.7 in /usr/local/lib/python3.11/dist-packages (from pandas) (2025.2)\n",
            "Requirement already satisfied: scipy>=1.6.0 in /usr/local/lib/python3.11/dist-packages (from scikit-learn) (1.15.3)\n",
            "Requirement already satisfied: joblib>=1.2.0 in /usr/local/lib/python3.11/dist-packages (from scikit-learn) (1.5.1)\n",
            "Requirement already satisfied: threadpoolctl>=3.1.0 in /usr/local/lib/python3.11/dist-packages (from scikit-learn) (3.6.0)\n",
            "Requirement already satisfied: six>=1.5 in /usr/local/lib/python3.11/dist-packages (from python-dateutil>=2.8.2->pandas) (1.17.0)\n"
          ]
        }
      ]
    },
    {
      "cell_type": "markdown",
      "source": [
        "Demonstrate various data pre-processing techniques for a given dataset.\n",
        "Write a python program to compute\n",
        "Reshaping the data,\n",
        "Filtering the data\n",
        "Merging the data\n",
        "Handling the missing values in datasets\n",
        "Feature Normalization: Min-max normalization\n"
      ],
      "metadata": {
        "id": "53jdlQgb7130"
      }
    },
    {
      "cell_type": "code",
      "source": [
        "import pandas as pd\n"
      ],
      "metadata": {
        "id": "9BYo8omq7wUd"
      },
      "execution_count": null,
      "outputs": []
    },
    {
      "cell_type": "code",
      "source": [
        "df1=pd.DataFrame({'ID':[1,2,3] , 'AGE' :[25,40,35] , 'Salary':[500000,400000,300000]})\n",
        "print(df1)\n",
        "df2=pd.DataFrame({'ID':[3,4,5,6] , 'Department':['TECH','HR','FINANCE','SDE']})"
      ],
      "metadata": {
        "colab": {
          "base_uri": "https://localhost:8080/"
        },
        "id": "p93EmhjZ8DYl",
        "outputId": "fd5249d8-2fc7-47a7-9232-8f3e019b0a93"
      },
      "execution_count": null,
      "outputs": [
        {
          "output_type": "stream",
          "name": "stdout",
          "text": [
            "   ID  AGE  Salary\n",
            "0   1   25  500000\n",
            "1   2   40  400000\n",
            "2   3   35  300000\n"
          ]
        }
      ]
    },
    {
      "cell_type": "markdown",
      "source": [
        "Reshaping data:"
      ],
      "metadata": {
        "id": "Fg9u77Wm9I-P"
      }
    },
    {
      "cell_type": "code",
      "source": [
        "reshaped=df1.melt(id_vars=['ID'],var_name='Attribute',value_name='Value')\n",
        "print(reshaped)"
      ],
      "metadata": {
        "colab": {
          "base_uri": "https://localhost:8080/"
        },
        "id": "Y6xyQw7H9K1-",
        "outputId": "66a13a6a-6d2f-4680-db26-0c14c4d81731"
      },
      "execution_count": null,
      "outputs": [
        {
          "output_type": "stream",
          "name": "stdout",
          "text": [
            "   ID Attribute   Value\n",
            "0   1       AGE      25\n",
            "1   2       AGE      40\n",
            "2   3       AGE      35\n",
            "3   1    Salary  500000\n",
            "4   2    Salary  400000\n",
            "5   3    Salary  300000\n"
          ]
        }
      ]
    },
    {
      "cell_type": "markdown",
      "source": [
        "Filtering data:"
      ],
      "metadata": {
        "id": "NddIlCAn9bel"
      }
    },
    {
      "cell_type": "code",
      "source": [
        "filtered_data=df[df1['AGE']>30]\n",
        "print(filtered_data)"
      ],
      "metadata": {
        "colab": {
          "base_uri": "https://localhost:8080/"
        },
        "id": "ee67HLKT9Uq1",
        "outputId": "6380bd8d-0504-4872-d0c0-8c716bbb770f"
      },
      "execution_count": null,
      "outputs": [
        {
          "output_type": "stream",
          "name": "stdout",
          "text": [
            "   ID  AGE  Salary\n",
            "1   2   40  400000\n",
            "2   3   35  300000\n"
          ]
        }
      ]
    },
    {
      "cell_type": "code",
      "source": [
        "filtered_data=df[df1['Salary']>400000]\n",
        "print(filtered_data)"
      ],
      "metadata": {
        "colab": {
          "base_uri": "https://localhost:8080/"
        },
        "id": "WYL_RSsa9lle",
        "outputId": "e10fbba9-00be-4210-faf1-8ada9ac09278"
      },
      "execution_count": null,
      "outputs": [
        {
          "output_type": "stream",
          "name": "stdout",
          "text": [
            "   ID  AGE  Salary\n",
            "0   1   25  500000\n"
          ]
        }
      ]
    },
    {
      "cell_type": "markdown",
      "source": [
        "Merging data:"
      ],
      "metadata": {
        "id": "Qw-fT1t1-SUu"
      }
    },
    {
      "cell_type": "code",
      "source": [
        "merged_df=pd.merge(df1,df2,on='ID')\n",
        "print(merged_df)"
      ],
      "metadata": {
        "colab": {
          "base_uri": "https://localhost:8080/"
        },
        "id": "KP2Clp-5-UtN",
        "outputId": "75e467c9-3f4d-466c-b2cf-9dbbf413dfbf"
      },
      "execution_count": null,
      "outputs": [
        {
          "output_type": "stream",
          "name": "stdout",
          "text": [
            "   ID  AGE  Salary Department\n",
            "0   3   35  300000       TECH\n"
          ]
        }
      ]
    },
    {
      "cell_type": "markdown",
      "source": [
        "Handling Missing values:"
      ],
      "metadata": {
        "id": "dK4hK_ek_Q9l"
      }
    },
    {
      "cell_type": "code",
      "source": [
        "# Filling missing values with column means\n",
        "df1_filled = df1.copy()\n",
        "df1_filled['AGE'] = df1_filled['AGE'].fillna(df1_filled['AGE'].mean())\n",
        "df1_filled['Salary'] = df1_filled['Salary'].fillna(df1_filled['Salary'].mean())\n",
        "\n",
        "print(\"Data after Handling Missing Values:\")\n",
        "print(df1_filled)"
      ],
      "metadata": {
        "colab": {
          "base_uri": "https://localhost:8080/"
        },
        "id": "6CZSfwJj_QHP",
        "outputId": "7f2ec94a-34f6-453e-e2ec-56617566629b"
      },
      "execution_count": null,
      "outputs": [
        {
          "output_type": "stream",
          "name": "stdout",
          "text": [
            "Data after Handling Missing Values:\n",
            "   ID  AGE  Salary\n",
            "0   1   25  500000\n",
            "1   2   40  400000\n",
            "2   3   35  300000\n"
          ]
        }
      ]
    },
    {
      "cell_type": "code",
      "source": [
        "from sklearn.preprocessing import MinMaxScaler\n",
        "\n",
        "# Normalize Age and Salary after filling missing values\n",
        "scaler = MinMaxScaler()\n",
        "df_norm = df1_filled.copy()\n",
        "df_norm[['AGE', 'Salary']] = scaler.fit_transform(df_norm[['AGE', 'Salary']])\n",
        "\n",
        "print(\"Min-Max Normalized Data:\")\n",
        "print(df_norm)\n"
      ],
      "metadata": {
        "colab": {
          "base_uri": "https://localhost:8080/"
        },
        "id": "MYUKfz2U_2QG",
        "outputId": "4c60f3c4-84bf-49c7-df2b-78701d49d54c"
      },
      "execution_count": null,
      "outputs": [
        {
          "output_type": "stream",
          "name": "stdout",
          "text": [
            "Min-Max Normalized Data:\n",
            "   ID       AGE  Salary\n",
            "0   1  0.000000     1.0\n",
            "1   2  1.000000     0.5\n",
            "2   3  0.666667     0.0\n"
          ]
        }
      ]
    }
  ]
}